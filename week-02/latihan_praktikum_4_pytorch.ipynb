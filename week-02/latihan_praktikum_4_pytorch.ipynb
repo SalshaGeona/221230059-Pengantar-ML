{
  "nbformat": 4,
  "nbformat_minor": 0,
  "metadata": {
    "colab": {
      "provenance": [],
      "authorship_tag": "ABX9TyMPMFJQbbFWm8P+LZ0lG/4f",
      "include_colab_link": true
    },
    "kernelspec": {
      "name": "python3",
      "display_name": "Python 3"
    },
    "language_info": {
      "name": "python"
    }
  },
  "cells": [
    {
      "cell_type": "markdown",
      "metadata": {
        "id": "view-in-github",
        "colab_type": "text"
      },
      "source": [
        "<a href=\"https://colab.research.google.com/github/SalshaGeona/221230059-Pengantar-ML/blob/main/week-02/latihan_praktikum_4_pytorch.ipynb\" target=\"_parent\"><img src=\"https://colab.research.google.com/assets/colab-badge.svg\" alt=\"Open In Colab\"/></a>"
      ]
    },
    {
      "cell_type": "code",
      "execution_count": null,
      "metadata": {
        "id": "808CiSB2nYzl"
      },
      "outputs": [],
      "source": [
        "import torch\n",
        "\n",
        "'''TODO: Implementasi Operasi Dasar Neural Networks'''\n",
        "# Simulasi batch data: 32 samples, 10 features\n",
        "batch_size, n_features = 32, 10\n",
        "X = torch.randn(batch_size, n_features)\n",
        "weights = torch.randn(n_features, 1)\n",
        "bias = torch.randn(1)\n",
        "\n",
        "# ======================================================\n",
        "# TODO 1: Implementasi linear layer manual: y = XW + b\n",
        "def linear_layer(X, W, b):\n",
        "    return torch.matmul(X, W) + b\n",
        "\n",
        "output = linear_layer(X, weights, bias)\n",
        "\n",
        "# ======================================================\n",
        "# TODO 2: Implementasi ReLU activation function\n",
        "def relu_activation(tensor):\n",
        "    return torch.maximum(torch.zeros_like(tensor), tensor)\n",
        "\n",
        "activated = relu_activation(output)\n",
        "\n",
        "# ======================================================\n",
        "# TODO 3: Batch normalization sederhana\n",
        "def simple_batch_norm(tensor, epsilon=1e-5):\n",
        "    mean = tensor.mean(dim=0, keepdim=True)  # mean per feature\n",
        "    std = tensor.std(dim=0, keepdim=True)    # std per feature\n",
        "    return (tensor - mean) / (std + epsilon)\n",
        "\n",
        "normalized = simple_batch_norm(X)\n",
        "\n",
        "# ======================================================\n",
        "# TODO 4: One-hot encoding manual\n",
        "def one_hot_pytorch(labels, num_classes):\n",
        "    one_hot = torch.zeros(labels.size(0), num_classes)\n",
        "    one_hot[torch.arange(labels.size(0)), labels] = 1\n",
        "    return one_hot\n",
        "\n",
        "labels = torch.randint(0, 3, (10,))\n",
        "one_hot = one_hot_pytorch(labels, num_classes=3)\n",
        "\n",
        "# ======================================================\n",
        "# BONUS: Matrix Multiplication dari Prinsip Dasar\n",
        "def manual_matrix_multiply(A, B):\n",
        "    \"\"\"\n",
        "    Implementasi perkalian matriks manual tanpa torch.matmul\n",
        "    \"\"\"\n",
        "    rows_A, cols_A = A.shape\n",
        "    rows_B, cols_B = B.shape\n",
        "    assert cols_A == rows_B, \"Matrix dimensions mismatch\"\n",
        "\n",
        "    result = torch.zeros(rows_A, cols_B)\n",
        "    for i in range(rows_A):\n",
        "        for j in range(cols_B):\n",
        "            for k in range(cols_A):\n",
        "                result[i, j] += A[i, k] * B[k, j]\n",
        "    return result\n",
        "\n",
        "# ======================================================\n",
        "# Test dengan matriks kecil\n",
        "A = torch.tensor([[1, 2], [3, 4]], dtype=torch.float32)\n",
        "B = torch.tensor([[5, 6], [7, 8]], dtype=torch.float32)\n",
        "\n",
        "manual_result = manual_matrix_multiply(A, B)\n",
        "torch_result = torch.matmul(A, B)\n",
        "\n",
        "# ======================================================\n",
        "# Assertions\n",
        "assert output.shape == (batch_size, 1), \"Linear output shape incorrect\"\n",
        "assert torch.all(activated >= 0), \"ReLU should be >= 0\"\n",
        "assert normalized.shape == X.shape, \"Batch norm should preserve shape\"\n",
        "assert one_hot.shape == (10, 3), \"One-hot shape incorrect\"\n",
        "assert torch.allclose(manual_result, torch_result), \"Manual multiplication incorrect\"\n",
        "\n",
        "print(\"✅ PyTorch operations completed\")\n",
        "print(\"✅ Advanced tensor operations completed\")\n",
        "\n",
        "# ======================================================\n",
        "# Output contoh\n",
        "print(\"\\n=== HASIL ANALISIS ===\")\n",
        "print(\"Linear output shape:\", output.shape)\n",
        "print(\"ReLU sample:\", activated[:5].T)\n",
        "print(\"BatchNorm mean (per feature):\", normalized.mean(0)[:5])\n",
        "print(\"One-hot encoding:\\n\", one_hot)\n",
        "print(\"Manual MatMul result:\\n\", manual_result)\n"
      ]
    }
  ]
}