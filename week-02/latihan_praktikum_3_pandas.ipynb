{
  "nbformat": 4,
  "nbformat_minor": 0,
  "metadata": {
    "colab": {
      "provenance": [],
      "authorship_tag": "ABX9TyMvQV7QnrV7IhisvpH1Sgm8",
      "include_colab_link": true
    },
    "kernelspec": {
      "name": "python3",
      "display_name": "Python 3"
    },
    "language_info": {
      "name": "python"
    }
  },
  "cells": [
    {
      "cell_type": "markdown",
      "metadata": {
        "id": "view-in-github",
        "colab_type": "text"
      },
      "source": [
        "<a href=\"https://colab.research.google.com/github/SalshaGeona/221230059-Pengantar-ML/blob/main/week-02/latihan_praktikum_3_pandas.ipynb\" target=\"_parent\"><img src=\"https://colab.research.google.com/assets/colab-badge.svg\" alt=\"Open In Colab\"/></a>"
      ]
    },
    {
      "cell_type": "code",
      "execution_count": 1,
      "metadata": {
        "id": "I3gizlGklwwI",
        "colab": {
          "base_uri": "https://localhost:8080/"
        },
        "outputId": "3a51e98d-0fe2-43fb-f851-fa02282f2198"
      },
      "outputs": [
        {
          "output_type": "stream",
          "name": "stdout",
          "text": [
            "✅ Pandas operations completed\n",
            "\n",
            "=== HASIL ANALISIS ===\n",
            "1. Revenue per Product (Top 3):\n",
            "product_id\n",
            "8    32062.915807\n",
            "9    30812.566464\n",
            "7    30786.212454\n",
            "Name: revenue, dtype: float64 \n",
            "\n",
            "2. Top 5 Customers by Spending:\n",
            "customer_id\n",
            "38    5239.536260\n",
            "59    5185.221233\n",
            "89    4759.149270\n",
            "94    4690.528278\n",
            "15    4657.289888\n",
            "Name: revenue, dtype: float64 \n",
            "\n",
            "3. Daily Revenue (first 5 days):\n",
            "date\n",
            "2023-01-01    5268.121555\n",
            "2023-01-02    4656.102661\n",
            "2023-01-03    3226.578585\n",
            "2023-01-04    2462.071219\n",
            "2023-01-05    3741.645829\n",
            "Name: revenue, dtype: float64 \n",
            "\n",
            "4. Jumlah Anomalies Quantity: 0\n",
            "Sample anomalies:\n",
            "Empty DataFrame\n",
            "Columns: [date, product_id, quantity, zscore_quantity]\n",
            "Index: []\n"
          ]
        }
      ],
      "source": [
        "import numpy as np\n",
        "import pandas as pd\n",
        "\n",
        "'''TODO: Analisis Dataset Retail'''\n",
        "# Create sample retail dataset\n",
        "np.random.seed(42)\n",
        "dates = pd.date_range('2023-01-01', '2023-03-31', freq='D')\n",
        "retail_data = pd.DataFrame({\n",
        "    'date': np.random.choice(dates, 1000),\n",
        "    'product_id': np.random.randint(1, 11, 1000),\n",
        "    'quantity': np.random.randint(1, 10, 1000),\n",
        "    'price': np.random.uniform(10, 100, 1000),\n",
        "    'customer_id': np.random.randint(1, 101, 1000)\n",
        "})\n",
        "retail_data['revenue'] = retail_data['quantity'] * retail_data['price']\n",
        "\n",
        "# ======================================================\n",
        "# TODO 1: Hitung total revenue per product\n",
        "revenue_per_product = (\n",
        "    retail_data.groupby('product_id')['revenue']\n",
        "    .sum()\n",
        "    .sort_values(ascending=False)\n",
        ")\n",
        "\n",
        "# TODO 2: Temukan top 5 customers berdasarkan total spending\n",
        "top_customers = (\n",
        "    retail_data.groupby('customer_id')['revenue']\n",
        "    .sum()\n",
        "    .sort_values(ascending=False)\n",
        "    .head(5)\n",
        ")\n",
        "\n",
        "# TODO 3: Analisis time series - revenue per hari\n",
        "daily_revenue = (\n",
        "    retail_data.groupby('date')['revenue']\n",
        "    .sum()\n",
        "    .sort_index()\n",
        ")\n",
        "\n",
        "# TODO 4: Buat fungsi untuk detect anomalies dalam quantity\n",
        "def detect_quantity_anomalies(df, threshold=2):\n",
        "    mean_q = df['quantity'].mean()\n",
        "    std_q = df['quantity'].std()\n",
        "    df = df.copy()\n",
        "    df['zscore_quantity'] = (df['quantity'] - mean_q) / std_q\n",
        "    anomalies = df[np.abs(df['zscore_quantity']) > threshold]\n",
        "    return anomalies\n",
        "\n",
        "anomalies = detect_quantity_anomalies(retail_data)\n",
        "\n",
        "# ======================================================\n",
        "# Validasi\n",
        "assert len(revenue_per_product) <= 10, \"Should have max 10 products\"\n",
        "assert len(top_customers) == 5, \"Should have top 5 customers\"\n",
        "print(\"✅ Pandas operations completed\")\n",
        "\n",
        "# ======================================================\n",
        "# Output tambahan biar jelas (angka saja)\n",
        "print(\"\\n=== HASIL ANALISIS ===\")\n",
        "print(\"1. Revenue per Product (Top 3):\")\n",
        "print(revenue_per_product.head(3), \"\\n\")\n",
        "\n",
        "print(\"2. Top 5 Customers by Spending:\")\n",
        "print(top_customers, \"\\n\")\n",
        "\n",
        "print(\"3. Daily Revenue (first 5 days):\")\n",
        "print(daily_revenue.head(), \"\\n\")\n",
        "\n",
        "print(f\"4. Jumlah Anomalies Quantity: {len(anomalies)}\")\n",
        "print(\"Sample anomalies:\")\n",
        "print(anomalies[['date','product_id','quantity','zscore_quantity']].head())\n"
      ]
    }
  ]
}