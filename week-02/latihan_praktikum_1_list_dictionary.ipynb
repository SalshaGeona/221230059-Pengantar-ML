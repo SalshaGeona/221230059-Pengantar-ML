{
  "nbformat": 4,
  "nbformat_minor": 0,
  "metadata": {
    "colab": {
      "provenance": [],
      "authorship_tag": "ABX9TyOrrx1h3IBznfm1m5kyYaG9",
      "include_colab_link": true
    },
    "kernelspec": {
      "name": "python3",
      "display_name": "Python 3"
    },
    "language_info": {
      "name": "python"
    }
  },
  "cells": [
    {
      "cell_type": "markdown",
      "metadata": {
        "id": "view-in-github",
        "colab_type": "text"
      },
      "source": [
        "<a href=\"https://colab.research.google.com/github/SalshaGeona/221230059-Pengantar-ML/blob/main/week-02/latihan_praktikum_1_list_dictionary.ipynb\" target=\"_parent\"><img src=\"https://colab.research.google.com/assets/colab-badge.svg\" alt=\"Open In Colab\"/></a>"
      ]
    },
    {
      "cell_type": "code",
      "source": [
        "# 🏋️ LATIHAN 1: OPERASI LIST DAN DICTIONARY\n",
        "\n",
        "### OPERASI LIST ###\n",
        "\n",
        "'''TODO: Manipulasi Data List untuk Preprocessing'''\n",
        "# Data mentah dari sensor\n",
        "raw_data = [23.5, 24.1, 22.8, 25.3, 21.9, 26.7, 20.5, 24.8, 23.2, 25.9]\n",
        "\n",
        "# TODO 1: Filter data yang berada di range 22-25 derajat\n",
        "filtered_data = [x for x in raw_data if 22 <= x <= 25]\n",
        "\n",
        "# TODO 2: Normalisasi data ke range 0-1 menggunakan min-max scaling\n",
        "min_val, max_val = min(raw_data), max(raw_data)\n",
        "normalized_data = [(x - min_val) / (max_val - min_val) for x in raw_data]\n",
        "\n",
        "# TODO 3: Hitung moving average dengan window size 3\n",
        "def moving_average(data, window_size):\n",
        "    result = []\n",
        "    for i in range(len(data) - window_size + 1):\n",
        "        window = data[i:i+window_size]\n",
        "        avg = sum(window) / window_size\n",
        "        result.append(avg)\n",
        "    return result\n",
        "\n",
        "ma_result = moving_average(raw_data, 3)\n",
        "\n",
        "assert len(filtered_data) <= len(raw_data), \"Filtered data should not be longer\"\n",
        "assert all(0 <= x <= 1 for x in normalized_data), \"Normalized data should be 0-1\"\n",
        "print(\"✅ List operations completed\\n\")\n",
        "\n",
        "print(\"Filtered Data (22-25):\", filtered_data)\n",
        "print(\"Normalized Data (0-1):\", [round(x,3) for x in normalized_data])\n",
        "print(\"Moving Average (win=3):\", [round(x,2) for x in ma_result])\n",
        "\n",
        "\n",
        "### OPERASI DICTIONARY ###\n",
        "\n",
        "'''TODO: Processing Dataset untuk Machine Learning'''\n",
        "# Dataset sample untuk klasifikasi\n",
        "dataset = [\n",
        "    {'features': [1.2, 3.4, 2.1], 'label': 'class_A'},\n",
        "    {'features': [2.3, 1.5, 4.2], 'label': 'class_B'},\n",
        "    {'features': [3.1, 2.8, 1.9], 'label': 'class_A'},\n",
        "    {'features': [4.2, 3.9, 2.5], 'label': 'class_B'}\n",
        "]\n",
        "\n",
        "# TODO 4: Kelompokkan data berdasarkan label\n",
        "def group_by_label(data):\n",
        "    grouped = {}\n",
        "    for sample in data:\n",
        "        label = sample['label']\n",
        "        features = sample['features']\n",
        "        if label not in grouped:\n",
        "            grouped[label] = []\n",
        "        grouped[label].append(features)\n",
        "    return grouped\n",
        "\n",
        "grouped_data = group_by_label(dataset)\n",
        "\n",
        "# TODO 5: Hitung rata-rata features per kelas\n",
        "def average_features_per_class(grouped_data):\n",
        "    avg_dict = {}\n",
        "    for label, features_list in grouped_data.items():\n",
        "        # transpose fitur (kolom)\n",
        "        n_features = len(features_list[0])\n",
        "        avg_features = [\n",
        "            sum(features[i] for features in features_list) / len(features_list)\n",
        "            for i in range(n_features)\n",
        "        ]\n",
        "        avg_dict[label] = avg_features\n",
        "    return avg_dict\n",
        "\n",
        "avg_features = average_features_per_class(grouped_data)\n",
        "\n",
        "assert 'class_A' in grouped_data, \"Should contain class_A\"\n",
        "assert 'class_B' in grouped_data, \"Should contain class_B\"\n",
        "print(\"\\n✅ Dictionary operations completed\\n\")\n",
        "\n",
        "print(\"Grouped Data:\", grouped_data)\n",
        "print(\"Average Features per Class:\", avg_features)\n"
      ],
      "metadata": {
        "colab": {
          "base_uri": "https://localhost:8080/"
        },
        "id": "owtKD-2wpbx2",
        "outputId": "3126285e-d5c9-4c18-f316-6e26a37d655a"
      },
      "execution_count": 1,
      "outputs": [
        {
          "output_type": "stream",
          "name": "stdout",
          "text": [
            "✅ List operations completed\n",
            "\n",
            "Filtered Data (22-25): [23.5, 24.1, 22.8, 24.8, 23.2]\n",
            "Normalized Data (0-1): [0.484, 0.581, 0.371, 0.774, 0.226, 1.0, 0.0, 0.694, 0.435, 0.871]\n",
            "Moving Average (win=3): [23.47, 24.07, 23.33, 24.63, 23.03, 24.0, 22.83, 24.63]\n",
            "\n",
            "✅ Dictionary operations completed\n",
            "\n",
            "Grouped Data: {'class_A': [[1.2, 3.4, 2.1], [3.1, 2.8, 1.9]], 'class_B': [[2.3, 1.5, 4.2], [4.2, 3.9, 2.5]]}\n",
            "Average Features per Class: {'class_A': [2.15, 3.0999999999999996, 2.0], 'class_B': [3.25, 2.7, 3.35]}\n"
          ]
        }
      ]
    }
  ]
}