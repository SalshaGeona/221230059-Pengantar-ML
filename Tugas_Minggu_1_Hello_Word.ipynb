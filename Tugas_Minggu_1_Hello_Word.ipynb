{
  "nbformat": 4,
  "nbformat_minor": 0,
  "metadata": {
    "colab": {
      "provenance": [],
      "authorship_tag": "ABX9TyNsI3+bqfh3VfwDaYoSSTQn",
      "include_colab_link": true
    },
    "kernelspec": {
      "name": "python3",
      "display_name": "Python 3"
    },
    "language_info": {
      "name": "python"
    }
  },
  "cells": [
    {
      "cell_type": "markdown",
      "metadata": {
        "id": "view-in-github",
        "colab_type": "text"
      },
      "source": [
        "<a href=\"https://colab.research.google.com/github/SalshaGeona/221230059-Pengantar-ML/blob/main/Tugas_Minggu_1_Hello_Word.ipynb\" target=\"_parent\"><img src=\"https://colab.research.google.com/assets/colab-badge.svg\" alt=\"Open In Colab\"/></a>"
      ]
    },
    {
      "cell_type": "code",
      "execution_count": 1,
      "metadata": {
        "colab": {
          "base_uri": "https://localhost:8080/"
        },
        "id": "EQj2OioKwE29",
        "outputId": "74b9eb08-4244-4512-9f26-8bde079d0461"
      },
      "outputs": [
        {
          "output_type": "stream",
          "name": "stdout",
          "text": [
            "Hello, World!\n",
            "Selamat datang di Mata Kuliah Pengantar Machine Learning!\n",
            "Nama: [Salsha Geona]\n",
            "NIM: [221230059]\n"
          ]
        }
      ],
      "source": [
        "print(\"Hello, World!\")\n",
        "print(\"Selamat datang di Mata Kuliah Pengantar Machine Learning!\")\n",
        "print(\"Nama: [Salsha Geona]\")\n",
        "print(\"NIM: [221230059]\")"
      ]
    }
  ]
}