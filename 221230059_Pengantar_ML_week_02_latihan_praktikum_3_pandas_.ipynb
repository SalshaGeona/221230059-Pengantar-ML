{
  "nbformat": 4,
  "nbformat_minor": 0,
  "metadata": {
    "colab": {
      "provenance": [],
      "authorship_tag": "ABX9TyP7TWB+1WZ2mL1crKCbCRpJ",
      "include_colab_link": true
    },
    "kernelspec": {
      "name": "python3",
      "display_name": "Python 3"
    },
    "language_info": {
      "name": "python"
    }
  },
  "cells": [
    {
      "cell_type": "markdown",
      "metadata": {
        "id": "view-in-github",
        "colab_type": "text"
      },
      "source": [
        "<a href=\"https://colab.research.google.com/github/SalshaGeona/221230059-Pengantar-ML/blob/main/221230059_Pengantar_ML_week_02_latihan_praktikum_3_pandas_.ipynb\" target=\"_parent\"><img src=\"https://colab.research.google.com/assets/colab-badge.svg\" alt=\"Open In Colab\"/></a>"
      ]
    },
    {
      "cell_type": "code",
      "execution_count": 1,
      "metadata": {
        "colab": {
          "base_uri": "https://localhost:8080/"
        },
        "id": "1F4VGADtQq8h",
        "outputId": "cb87a984-2b3f-4e84-ded7-6d8759a5ea07"
      },
      "outputs": [
        {
          "output_type": "stream",
          "name": "stdout",
          "text": [
            "✅ Pandas operations completed\n",
            "\n",
            "💰 Total Revenue per Product:\n",
            "    product_id       revenue\n",
            "7           8  32062.915807\n",
            "8           9  30812.566464\n",
            "6           7  30786.212454\n",
            "4           5  29894.628309\n",
            "5           6  29771.241361\n",
            "\n",
            "🏆 Top 5 Customers:\n",
            "     customer_id      revenue\n",
            "37           38  5239.536260\n",
            "58           59  5185.221233\n",
            "88           89  4759.149270\n",
            "93           94  4690.528278\n",
            "14           15  4657.289888\n",
            "\n",
            "📈 Daily Revenue (first 5 rows):\n",
            "         date      revenue\n",
            "0 2023-01-01  5268.121555\n",
            "1 2023-01-02  4656.102661\n",
            "2 2023-01-03  3226.578585\n",
            "3 2023-01-04  2462.071219\n",
            "4 2023-01-05  3741.645829\n",
            "\n",
            "⚠️ Detected Anomalies (first 5 rows):\n",
            " Empty DataFrame\n",
            "Columns: [date, product_id, quantity, price, customer_id, revenue]\n",
            "Index: []\n"
          ]
        }
      ],
      "source": [
        "import numpy as np\n",
        "import pandas as pd\n",
        "\n",
        "# Create sample retail dataset\n",
        "np.random.seed(42)\n",
        "dates = pd.date_range('2023-01-01', '2023-03-31', freq='D')\n",
        "retail_data = pd.DataFrame({\n",
        "    'date': np.random.choice(dates, 1000),\n",
        "    'product_id': np.random.randint(1, 11, 1000),\n",
        "    'quantity': np.random.randint(1, 10, 1000),\n",
        "    'price': np.random.uniform(10, 100, 1000),\n",
        "    'customer_id': np.random.randint(1, 101, 1000)\n",
        "})\n",
        "retail_data['revenue'] = retail_data['quantity'] * retail_data['price']\n",
        "\n",
        "# ✅ TODO 1: Hitung total revenue per product\n",
        "revenue_per_product = (\n",
        "    retail_data.groupby('product_id')['revenue']\n",
        "    .sum()\n",
        "    .reset_index()\n",
        "    .sort_values(by='revenue', ascending=False)\n",
        ")\n",
        "\n",
        "# ✅ TODO 2: Temukan top 5 customers berdasarkan total spending\n",
        "top_customers = (\n",
        "    retail_data.groupby('customer_id')['revenue']\n",
        "    .sum()\n",
        "    .reset_index()\n",
        "    .sort_values(by='revenue', ascending=False)\n",
        "    .head(5)\n",
        ")\n",
        "\n",
        "# ✅ TODO 3: Analisis time series - revenue per hari\n",
        "daily_revenue = (\n",
        "    retail_data.groupby('date')['revenue']\n",
        "    .sum()\n",
        "    .reset_index()\n",
        "    .sort_values(by='date')\n",
        ")\n",
        "\n",
        "# ✅ TODO 4: Buat fungsi untuk detect anomalies dalam quantity\n",
        "def detect_quantity_anomalies(df, threshold=2):\n",
        "    mean_q = df['quantity'].mean()\n",
        "    std_q = df['quantity'].std()\n",
        "    z_scores = (df['quantity'] - mean_q) / std_q\n",
        "    return df[np.abs(z_scores) > threshold]\n",
        "\n",
        "anomalies = detect_quantity_anomalies(retail_data)\n",
        "\n",
        "# ✅ Assertions\n",
        "assert len(revenue_per_product) <= 10, \"Should have max 10 products\"\n",
        "assert len(top_customers) == 5, \"Should have top 5 customers\"\n",
        "print(\"✅ Pandas operations completed\")\n",
        "\n",
        "# --- Optional: tampilkan contoh output ---\n",
        "print(\"\\n💰 Total Revenue per Product:\\n\", revenue_per_product.head())\n",
        "print(\"\\n🏆 Top 5 Customers:\\n\", top_customers)\n",
        "print(\"\\n📈 Daily Revenue (first 5 rows):\\n\", daily_revenue.head())\n",
        "print(\"\\n⚠️ Detected Anomalies (first 5 rows):\\n\", anomalies.head())\n"
      ]
    }
  ]
}